{
 "cells": [
  {
   "cell_type": "code",
   "execution_count": 2,
   "metadata": {},
   "outputs": [],
   "source": [
    "from sentence_transformers import SentenceTransformer\n",
    "import faiss\n",
    "import numpy as np\n",
    "import pandas as pd"
   ]
  },
  {
   "cell_type": "code",
   "execution_count": 3,
   "metadata": {},
   "outputs": [],
   "source": [
    "# Load the model\n",
    "model = SentenceTransformer('sentence-transformers/all-MiniLM-L6-v2')\n",
    "\n",
    "# Load product data (assuming you have a CSV with 'id', 'name', 'description')\n",
    "df = pd.read_csv('sampled_data.csv')\n",
    "# df = df[:50] # Limit to 50 products for demonstration purposes\n",
    "\n",
    "# Combine relevant text fields for embedding\n",
    "df['combined_text'] = df['asin'] + \" : \" + df['categoryName'] + \" : \" + df['title'] + \" : Price is \" + df['price'].to_string()\n",
    "\n",
    "# Compute embeddings\n",
    "embeddings = model.encode(df['combined_text'].tolist(), convert_to_numpy=True)\n",
    "\n",
    "# Save the embeddings and IDs for retrieval\n",
    "np.save(\"product_embeddings.npy\", embeddings)\n",
    "df.to_csv(\"product_data.csv\", index=False)\n"
   ]
  },
  {
   "cell_type": "code",
   "execution_count": 4,
   "metadata": {},
   "outputs": [],
   "source": [
    "# Create a FAISS index\n",
    "index = faiss.IndexFlatL2(embeddings.shape[1])  # L2 distance for nearest neighbor search\n",
    "index.add(embeddings)\n",
    "\n",
    "# Save the FAISS index for later use\n",
    "faiss.write_index(index, \"product_index.faiss\")\n"
   ]
  },
  {
   "cell_type": "code",
   "execution_count": 14,
   "metadata": {},
   "outputs": [],
   "source": [
    "def search_products(query, top_k=5):\n",
    "    # Load data and FAISS index\n",
    "    df = pd.read_csv(\"product_data.csv\")\n",
    "    index = faiss.read_index(\"product_index.faiss\")\n",
    "\n",
    "    # Encode the user query\n",
    "    query_embedding = model.encode([query], convert_to_numpy=True)\n",
    "\n",
    "    # Search for the closest vectors\n",
    "    distances, indices = index.search(query_embedding, top_k)\n",
    "\n",
    "    # # Retrieve matching product details\n",
    "    # results = df.iloc[indices[0]]\n",
    "    # return results[['asin', 'price', 'title', 'categoryName']]\n",
    "\n",
    "    # Fetch product details\n",
    "    results = df.iloc[indices[0]][['asin', 'title', 'price', 'categoryName']]\n",
    "    return results.to_dict(orient='records')  # Convert to JSON format\n"
   ]
  },
  {
   "cell_type": "code",
   "execution_count": 15,
   "metadata": {},
   "outputs": [
    {
     "name": "stdout",
     "output_type": "stream",
     "text": [
      "[{'asin': 'B0B1HT8ZRS', 'title': \"HoYiXi 14 Inch Laptop Sleeve Case Leather Bag with Stand Compatible with MacBook Pro 14 2021/ASUS Vivobook 14/HP Pavilion X360/Lenovo IdeaPad 14/Dell Lenovo HP ASUS Acer HUAWEI Matebook 14'' PC, Gray\", 'price': 17.99, 'categoryName': 'Laptop Accessories'}, {'asin': 'B0C2VVZJXF', 'title': 'STRHIGP Business Mini PC 32GB DDR4 RAM 512GB SSD, i5-8250U Fanless Mini PC Dual RJ45 LAN/USB(4 USB2.0/4 USB 3.0), 4K@60HZ Triple Display/SIM Slot/WIFI 5/BT 4.2, Tiny Mini PC Support Win11/Linux', 'price': 854.0, 'categoryName': 'Barebone PCs'}, {'asin': 'B08CZ6LDBX', 'title': 'Newaner Laptop Stand Aluminum Height Adjustable, Computer Riser Holder 360°Rotatable Compatible With Notebook of 10-16inch Including Macbook Pro/Air Surface Lenovo Hp Asus Acer Dell MSI Samsung', 'price': 24.37, 'categoryName': 'Furniture & Lighting'}, {'asin': 'B0C7ZQPQY2', 'title': 'Voova Puffy Laptop Sleeve Case 15.6 16 Inch,Quilted Puffer Computer Case with Accessories Bag for Women,Compatible MacBook Pro/Max M2 M1 2023-2019,Surface Book 2/Surface Laptop,Dell HP Asus,Apricot', 'price': 24.99, 'categoryName': 'Laptop Accessories'}, {'asin': 'B09TWBLP8D', 'title': 'Alienware x17 R2 17.3\" FHD 360Hz 1ms Gaming Laptop, Intel Core i7-12700H, NVIDIA GeForce RTX 3080 Ti 16GB, 32GB RAM, 1TB SSD, AlienFX mSeries Keyboard, NVIDIA G-SYNC, Windows 11 Home (Lunar Light)', 'price': 2746.99, 'categoryName': 'Laptops'}]\n"
     ]
    }
   ],
   "source": [
    "# Example usage\n",
    "query = \"I need a new laptop for work, with minimum 12 GB RAM\"\n",
    "print(search_products(query))"
   ]
  },
  {
   "cell_type": "code",
   "execution_count": 9,
   "metadata": {},
   "outputs": [],
   "source": [
    "from groq import Groq\n",
    "from key import groq_api\n",
    "client = Groq(api_key=groq_api)"
   ]
  },
  {
   "cell_type": "code",
   "execution_count": 21,
   "metadata": {},
   "outputs": [],
   "source": [
    "def chat_with_llama3(query):\n",
    "    # Retrieve relevant product data\n",
    "    product_data = search_products(query)\n",
    "\n",
    "    # Format retrieved product data as context\n",
    "    context = \"\\n\".join([f\"{p['asin']}: {p['title']}, Price: {p['price'],}\" for p in product_data])\n",
    "\n",
    "    # Construct LLM prompt\n",
    "    prompt = f\"\"\"\n",
    "    You are an AI assistant for an e-commerce website.\n",
    "    Only answer using the provided product data.\n",
    "    If you cannot find a relevant product, politely say you don't have that item.\n",
    "\n",
    "    Product Data:\n",
    "    {context}\n",
    "\n",
    "    User Query: {query}\n",
    "    \"\"\"\n",
    "\n",
    "    # Query LLaMA 3.3\n",
    "    response = client.chat.completions.create(\n",
    "    messages=[\n",
    "        {\n",
    "            \"role\": \"user\",\n",
    "            \"content\": prompt,\n",
    "        }\n",
    "    ],\n",
    "    model=\"llama-3.3-70b-versatile\",\n",
    ")\n",
    "    \n",
    "    return response.choices[0].message.content"
   ]
  },
  {
   "cell_type": "code",
   "execution_count": 25,
   "metadata": {},
   "outputs": [
    {
     "name": "stdout",
     "output_type": "stream",
     "text": [
      "We have a variety of office desks available. \n",
      "\n",
      "Here are a few options:\n",
      "1. B0BRQ5N99J: A multifunctional white office desk with a swivel angle, priced at $3607.8.\n",
      "2. B0C49B4MXS: A rolling single electric height adjustable desk in white, priced at $2108.77.\n",
      "3. B0BKKG24S4: A multifunctional home office desk with 3 drawers and storage shelves, priced at $1845.26.\n",
      "\n",
      "Which type of desk are you looking for? Or would you like me to suggest some options based on your specific needs?\n"
     ]
    }
   ],
   "source": [
    "query = \"can You help me create a new office desk?\"\n",
    "print(chat_with_llama3(query))"
   ]
  },
  {
   "cell_type": "code",
   "execution_count": 26,
   "metadata": {},
   "outputs": [],
   "source": [
    "# Global chat history (for testing; later, store per user session)\n",
    "chat_history = [\n",
    "    {\"role\": \"system\", \"content\": \"You are a helpful AI assistant for an e-commerce website.\"}\n",
    "]\n",
    "\n",
    "def chat_with_llama3(user_input):\n",
    "    # Add user input to history\n",
    "    chat_history.append({\"role\": \"user\", \"content\": user_input})\n",
    "\n",
    "    # Call LLaMA 3.3 with the entire chat history\n",
    "    response = client.chat.completions.create(\n",
    "        model=\"llama-3.3-70b-versatile\",\n",
    "        messages=chat_history  # Send entire conversation history\n",
    "    )\n",
    "\n",
    "    # Extract response\n",
    "    assistant_reply = response.choices[0].message.content\n",
    "\n",
    "    # Append AI response to history\n",
    "    chat_history.append({\"role\": \"assistant\", \"content\": assistant_reply})\n",
    "\n",
    "    return assistant_reply"
   ]
  },
  {
   "cell_type": "code",
   "execution_count": 27,
   "metadata": {},
   "outputs": [
    {
     "name": "stdout",
     "output_type": "stream",
     "text": [
      "We have a wide range of affordable electronics on our website. Here are some popular options:\n",
      "\n",
      "1. **Budget Smartphones**: Starting from $99, our selection of budget smartphones offers great value for money, with features like dual cameras, large displays, and long-lasting batteries.\n",
      "2. **Wireless Earbuds**: Get high-quality wireless earbuds for as low as $29.99, with features like Bluetooth connectivity, long battery life, and sleek designs.\n",
      "3. **Tablets**: Our tablet collection starts at $129, offering a range of options with features like Wi-Fi connectivity, HD displays, and access to your favorite apps.\n",
      "4. **Gaming Accessories**: If you're a gamer, check out our affordable gaming mice, keyboards, and controllers, starting from $19.99.\n",
      "5. **Smartwatches**: Stay connected and track your fitness with our affordable smartwatches, starting from $49.99.\n",
      "\n",
      "To explore our full range of electronics, you can:\n",
      "\n",
      "* Visit our \"Deals\" section for discounted products\n",
      "* Filter by price range or brand on our electronics category page\n",
      "* Search for specific products using our search bar\n",
      "\n",
      "What type of electronics are you looking for? I'd be happy to help you find something that fits your budget!\n"
     ]
    }
   ],
   "source": [
    "print(chat_with_llama3(\"Hi! Do you have any cheap electronics?\"))"
   ]
  },
  {
   "cell_type": "code",
   "execution_count": 28,
   "metadata": {},
   "outputs": [
    {
     "name": "stdout",
     "output_type": "stream",
     "text": [
      "We have a wide range of smartphone accessories to enhance your mobile experience. Here are some popular options:\n",
      "\n",
      "1. **Phone Cases**: Protect your phone with our stylish and durable cases, starting from $9.99. We have a variety of designs, materials, and brands to choose from.\n",
      "2. **Screen Protectors**: Keep your screen scratch-free with our high-quality screen protectors, starting from $4.99. We offer tempered glass, film, and other types of protectors.\n",
      "3. **Power Banks**: Stay charged on-the-go with our portable power banks, starting from $19.99. We have a range of capacities, from 5,000mAh to 20,000mAh.\n",
      "4. **Wireless Chargers**: Experience convenient wireless charging with our affordable wireless chargers, starting from $14.99.\n",
      "5. **Headphones**: Enjoy high-quality audio with our range of headphones, starting from $19.99. We have wired, wireless, and Bluetooth options available.\n",
      "6. **Phone Mounts**: Navigate safely with our phone mounts, starting from $9.99. We have car mounts, bike mounts, and desk mounts available.\n",
      "7. **Cables and Adapters**: Stock up on essential cables and adapters, such as USB-C cables, lighting cables, and adapters, starting from $4.99.\n",
      "\n",
      "To help you find the perfect accessory, can you please tell me:\n",
      "\n",
      "* What is your phone model?\n",
      "* What type of accessory are you looking for (e.g. case, screen protector, power bank)?\n",
      "* Do you have a specific brand or design in mind?\n",
      "\n",
      "I'll be happy to provide you with more tailored recommendations and options!\n"
     ]
    }
   ],
   "source": [
    "print(chat_with_llama3(\"I am looking for some asscessories for smartphone\"))"
   ]
  },
  {
   "cell_type": "code",
   "execution_count": 29,
   "metadata": {},
   "outputs": [
    {
     "name": "stdout",
     "output_type": "stream",
     "text": [
      "Phone Cases\n",
      "Screen Protectors\n",
      "Power Banks\n",
      "Wireless Chargers\n",
      "Headphones\n",
      "Phone Mounts\n",
      "Cables \n",
      "Adapters\n"
     ]
    }
   ],
   "source": [
    "print(chat_with_llama3(\"Can you reply with just names?\"))"
   ]
  },
  {
   "cell_type": "code",
   "execution_count": 30,
   "metadata": {},
   "outputs": [
    {
     "name": "stdout",
     "output_type": "stream",
     "text": [
      "A Wireless Charger works by using electromagnetic induction to transfer energy between a transmitter (the charger) and a receiver (your phone). Here's a simplified explanation:\n",
      "\n",
      "1. **Transmitter**: The wireless charger has a coil of wire (the transmitter) that carries an alternating current (AC).\n",
      "2. **Magnetic Field**: When you plug in the charger, the coil generates a magnetic field around it.\n",
      "3. **Receiver**: Your phone has a similar coil (the receiver) built into it, which is designed to work with the wireless charger.\n",
      "4. **Induction**: When you place your phone on the charger, the magnetic field induces an electrical current in the receiver coil.\n",
      "5. **Charging**: The induced current is then used to charge your phone's battery.\n",
      "\n",
      "This process happens automatically, and you don't need to worry about the technical details. Just place your phone on the charger, and it will start charging wirelessly!\n"
     ]
    }
   ],
   "source": [
    "print(chat_with_llama3(\"How does the Wireless charger work?\"))"
   ]
  },
  {
   "cell_type": "code",
   "execution_count": 31,
   "metadata": {},
   "outputs": [
    {
     "name": "stdout",
     "output_type": "stream",
     "text": [
      "Here are some Wireless Charger options:\n",
      "\n",
      "1. **Anker Wireless Charger**\n",
      "2. **Samsung Wireless Charger**\n",
      "3. **Belkin Wireless Charger**\n",
      "4. **Google Wireless Charger**\n",
      "5. **Qi Wireless Charger**\n",
      "\n",
      "Or, if you're looking for something more specific:\n",
      "\n",
      "1. **Fast Wireless Charger**\n",
      "2. **Wireless Charging Pad**\n",
      "3. **Wireless Charging Stand**\n",
      "4. **Portable Wireless Charger**\n",
      "5. **Car Wireless Charger**\n",
      "\n",
      "Let me know if you have a specific preference (e.g. brand, price range, design), and I can give you more tailored suggestions!\n"
     ]
    }
   ],
   "source": [
    "print(chat_with_llama3(\"OK, I am intrested in buying one! can you suggest me some?\"))"
   ]
  }
 ],
 "metadata": {
  "kernelspec": {
   "display_name": "venv",
   "language": "python",
   "name": "python3"
  },
  "language_info": {
   "codemirror_mode": {
    "name": "ipython",
    "version": 3
   },
   "file_extension": ".py",
   "mimetype": "text/x-python",
   "name": "python",
   "nbconvert_exporter": "python",
   "pygments_lexer": "ipython3",
   "version": "3.13.1"
  }
 },
 "nbformat": 4,
 "nbformat_minor": 2
}
