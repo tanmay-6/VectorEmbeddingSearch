{
 "cells": [
  {
   "cell_type": "code",
   "execution_count": 1,
   "metadata": {},
   "outputs": [
    {
     "name": "stderr",
     "output_type": "stream",
     "text": [
      "/Volumes/Work/Python/llmsearch/venv/lib/python3.13/site-packages/tqdm/auto.py:21: TqdmWarning: IProgress not found. Please update jupyter and ipywidgets. See https://ipywidgets.readthedocs.io/en/stable/user_install.html\n",
      "  from .autonotebook import tqdm as notebook_tqdm\n"
     ]
    }
   ],
   "source": [
    "from sentence_transformers import SentenceTransformer\n",
    "import faiss\n",
    "import numpy as np\n",
    "import pandas as pd"
   ]
  },
  {
   "cell_type": "code",
   "execution_count": 3,
   "metadata": {},
   "outputs": [],
   "source": [
    "# Load the model\n",
    "model = SentenceTransformer('sentence-transformers/all-MiniLM-L6-v2')\n",
    "\n",
    "# Load product data (assuming you have a CSV with 'id', 'name', 'description')\n",
    "df = pd.read_csv('sampled_data.csv')\n",
    "# df = df[:50] # Limit to 50 products for demonstration purposes\n",
    "\n",
    "# Combine relevant text fields for embedding\n",
    "df['combined_text'] = df['asin'] + \" : \" + df['categoryName'] + \" : \" + df['title'] + \" : Price is \" + df['price'].to_string()\n",
    "\n",
    "# Compute embeddings\n",
    "embeddings = model.encode(df['combined_text'].tolist(), convert_to_numpy=True)\n",
    "\n",
    "# Save the embeddings and IDs for retrieval\n",
    "np.save(\"product_embeddings.npy\", embeddings)\n",
    "df.to_csv(\"product_data.csv\", index=False)\n"
   ]
  },
  {
   "cell_type": "code",
   "execution_count": 4,
   "metadata": {},
   "outputs": [],
   "source": [
    "# Create a FAISS index\n",
    "index = faiss.IndexFlatL2(embeddings.shape[1])  # L2 distance for nearest neighbor search\n",
    "index.add(embeddings)\n",
    "\n",
    "# Save the FAISS index for later use\n",
    "faiss.write_index(index, \"product_index.faiss\")\n"
   ]
  },
  {
   "cell_type": "code",
   "execution_count": 5,
   "metadata": {},
   "outputs": [],
   "source": [
    "def search_products(query, top_k=5):\n",
    "    # Load data and FAISS index\n",
    "    df = pd.read_csv(\"product_data.csv\")\n",
    "    index = faiss.read_index(\"product_index.faiss\")\n",
    "\n",
    "    # Encode the user query\n",
    "    query_embedding = model.encode([query], convert_to_numpy=True)\n",
    "\n",
    "    # Search for the closest vectors\n",
    "    distances, indices = index.search(query_embedding, top_k)\n",
    "\n",
    "    # Retrieve matching product details\n",
    "    results = df.iloc[indices[0]]\n",
    "    return results[['asin', 'price', 'title', 'categoryName']]\n"
   ]
  },
  {
   "cell_type": "code",
   "execution_count": 15,
   "metadata": {},
   "outputs": [
    {
     "name": "stdout",
     "output_type": "stream",
     "text": [
      "            asin  price                                              title  \\\n",
      "1574  B09PG5B8GX   9.99  Guichangkai 8 Pcs Realistic Cat Figurines, Rea...   \n",
      "2810  B0CJ56FM5Q  13.69  Christmas Elf Kit, 12/24 Days Of Christmas 202...   \n",
      "1735  B0CF9MSNPS   5.90  2PC Otter Keychains Cute Cartoon Animals Coupl...   \n",
      "363   B0BJCZYP2J  28.27  Animal Cat and Mouse Micro Building Blocks Set...   \n",
      "1615  B09N44F9FL  45.99  Plastic Stackable Storage Baskets Vegetable St...   \n",
      "\n",
      "                        categoryName  \n",
      "1574              Kids' Play Figures  \n",
      "2810            Toy Advent Calendars  \n",
      "1735         Luggage and travel gear  \n",
      "363     Building & Construction Toys  \n",
      "1615  Kitchen Storage & Organisation  \n"
     ]
    }
   ],
   "source": [
    "# Example usage\n",
    "query = \"how many categories are there?\"\n",
    "print(search_products(query))"
   ]
  }
 ],
 "metadata": {
  "kernelspec": {
   "display_name": "venv",
   "language": "python",
   "name": "python3"
  },
  "language_info": {
   "codemirror_mode": {
    "name": "ipython",
    "version": 3
   },
   "file_extension": ".py",
   "mimetype": "text/x-python",
   "name": "python",
   "nbconvert_exporter": "python",
   "pygments_lexer": "ipython3",
   "version": "3.13.1"
  }
 },
 "nbformat": 4,
 "nbformat_minor": 2
}
